{
 "cells": [
  {
   "cell_type": "markdown",
   "metadata": {},
   "source": [
    "# Build local docker file images\n",
    "\n",
    "This will execute docker image builds locally. Not the best way but it is more convenient than typing each command by hand into terminal.\n",
    "\n",
    "I am sure I will find a better way..."
   ]
  },
  {
   "cell_type": "markdown",
   "metadata": {},
   "source": [
    "### Fabric"
   ]
  },
  {
   "cell_type": "code",
   "execution_count": 17,
   "metadata": {},
   "outputs": [
    {
     "name": "stdout",
     "output_type": "stream",
     "text": [
      "fabric_host\n",
      "fabric_host\n",
      "Untagged: jakub-deka/fabric:latest\n",
      "Deleted: sha256:ac6036409ed820a12bcd2178c3e24eccd3b4ffc59cd336b635ee185dbb6f90b7\n"
     ]
    }
   ],
   "source": [
    "# Optional clean up\n",
    "!docker stop fabric_host\n",
    "!docker container rm fabric_host\n",
    "!docker image rm jakub-deka/fabric:latest"
   ]
  },
  {
   "cell_type": "code",
   "execution_count": 65,
   "metadata": {},
   "outputs": [
    {
     "name": "stdout",
     "output_type": "stream",
     "text": [
      "fabric_host\n",
      "fabric_host\n",
      "Untagged: jakub-deka/fabric:latest\n",
      "Deleted: sha256:ee1097a9ff628224eaba346468c423f5f3caffca7009617f53da8b1628fc2334\n",
      "[main eaa7d55] Get fabric working!\n",
      " 2 files changed, 35 insertions(+), 37 deletions(-)\n"
     ]
    },
    {
     "name": "stderr",
     "output_type": "stream",
     "text": [
      "warning: in the working copy of 'build images.ipynb', LF will be replaced by CRLF the next time Git touches it\n",
      "To https://github.com/jakub-deka/docker_repos.git\n",
      "   56d247c..eaa7d55  main -> main\n"
     ]
    }
   ],
   "source": [
    "# Optional clean up\n",
    "!docker stop fabric_host -t 1\n",
    "!docker container rm fabric_host\n",
    "!docker image rm jakub-deka/fabric:latest\n",
    "\n",
    "!git commit -a -m \"Get fabric working!\"\n",
    "!git push\n",
    "\n",
    "# !docker build - -t jakub-deka/fabric < fabric/Dockerfile\n",
    "!docker build https://github.com/jakub-deka/docker_repos.git#main:fabric -t jakub-deka/fabric\n",
    "\n",
    "!docker run -d -i --add-host=host.docker.internal:host-gateway --name fabric_host jakub-deka/fabric\n",
    "!docker start fabric_host"
   ]
  },
  {
   "cell_type": "markdown",
   "metadata": {},
   "source": [
    "To make sure that the everything with ollama is working correctly we need to check the local server using\n",
    "\n",
    "```\n",
    "curl http://host.docker.internal:11667/api/generate -d '{\n",
    "  \"model\": \"phi3\",\n",
    "  \"prompt\":\"Why is the sky blue?\"\n",
    "}'\n",
    "```\n",
    "\n",
    "```\n",
    "curl http://host.docker.internal:11667/api/chat -d '{\n",
    "  \"model\": \"phi3\",\n",
    "  \"messages\": [\n",
    "    { \"role\": \"user\", \"content\": \"why is the sky blue?\" }\n",
    "  ]\n",
    "}'\n",
    "```\n",
    "\n",
    "```\n",
    "curl http://host.docker.internal:11667/v1/chat/completions \\\n",
    "    -H \"Content-Type: application/json\" \\\n",
    "    -d '{\n",
    "        \"model\": \"phi3\",\n",
    "        \"messages\": [\n",
    "            {\n",
    "                \"role\": \"system\",\n",
    "                \"content\": \"You are a helpful assistant.\"\n",
    "            },\n",
    "            {\n",
    "                \"role\": \"user\",\n",
    "                \"content\": \"Why is the sky blue?\"\n",
    "            }\n",
    "        ]\n",
    "    }'\n",
    "```"
   ]
  },
  {
   "cell_type": "code",
   "execution_count": 29,
   "metadata": {},
   "outputs": [
    {
     "name": "stdout",
     "output_type": "stream",
     "text": [
      "50c546054d9c05b30b677c3fc54da981041b05463f1504123631d9560a54f29e\n"
     ]
    }
   ],
   "source": [
    "!docker run -d -i --name fabric_host jakub-deka/fabric\n",
    "# !docker exec -it fabric_host /bin/bash"
   ]
  }
 ],
 "metadata": {
  "kernelspec": {
   "display_name": "base",
   "language": "python",
   "name": "python3"
  },
  "language_info": {
   "codemirror_mode": {
    "name": "ipython",
    "version": 3
   },
   "file_extension": ".py",
   "mimetype": "text/x-python",
   "name": "python",
   "nbconvert_exporter": "python",
   "pygments_lexer": "ipython3",
   "version": "3.11.7"
  }
 },
 "nbformat": 4,
 "nbformat_minor": 2
}
