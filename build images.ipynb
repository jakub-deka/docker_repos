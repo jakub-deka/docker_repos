{
 "cells": [
  {
   "cell_type": "markdown",
   "metadata": {},
   "source": [
    "# Build local docker file images\n",
    "\n",
    "This will execute docker image builds locally. Not the best way but it is more convenient than typing each command by hand into terminal.\n",
    "\n",
    "I am sure I will find a better way..."
   ]
  },
  {
   "cell_type": "markdown",
   "metadata": {},
   "source": [
    "### Fabric"
   ]
  },
  {
   "cell_type": "code",
   "execution_count": 17,
   "metadata": {},
   "outputs": [
    {
     "name": "stdout",
     "output_type": "stream",
     "text": [
      "fabric_host\n",
      "fabric_host\n",
      "Untagged: jakub-deka/fabric:latest\n",
      "Deleted: sha256:ac6036409ed820a12bcd2178c3e24eccd3b4ffc59cd336b635ee185dbb6f90b7\n"
     ]
    }
   ],
   "source": [
    "# Optional clean up\n",
    "!docker stop fabric_host\n",
    "!docker container rm fabric_host\n",
    "!docker image rm jakub-deka/fabric:latest"
   ]
  },
  {
   "cell_type": "code",
   "execution_count": 1,
   "metadata": {},
   "outputs": [
    {
     "name": "stdout",
     "output_type": "stream",
     "text": [
      "[main 9a742f6] Get fabric working!\n",
      " 2 files changed, 74 insertions(+), 10 deletions(-)\n"
     ]
    },
    {
     "name": "stderr",
     "output_type": "stream",
     "text": [
      "warning: in the working copy of 'build images.ipynb', LF will be replaced by CRLF the next time Git touches it\n",
      "To https://github.com/jakub-deka/docker_repos.git\n",
      "   ee5009e..9a742f6  main -> main\n"
     ]
    }
   ],
   "source": [
    "!git commit -a -m \"Get fabric working!\"\n",
    "!git push\n",
    "fabric --remoteOllamaServer host.docker.internal:11667 --changeDefaultModel phi3"
   ]
  },
  {
   "cell_type": "code",
   "execution_count": 2,
   "metadata": {},
   "outputs": [
    {
     "name": "stderr",
     "output_type": "stream",
     "text": [
      "Error response from daemon: No such container: fabric_host\n",
      "Error response from daemon: No such container: fabric_host\n"
     ]
    },
    {
     "name": "stdout",
     "output_type": "stream",
     "text": [
      "Untagged: jakub-deka/fabric:latest\n",
      "Deleted: sha256:df551a8e8d1f7bab8ede705b6bd06fe760b8c6438b3f3760d0865a09e88cccff\n",
      "On branch main\n",
      "Your branch is up to date with 'origin/main'.\n",
      "\n",
      "nothing to commit, working tree clean\n"
     ]
    },
    {
     "name": "stderr",
     "output_type": "stream",
     "text": [
      "Everything up-to-date\n",
      "#0 building with \"default\" instance using docker driver\n",
      "\n",
      "#1 [internal] load git source https://github.com/jakub-deka/docker_repos.git#main:fabric\n",
      "#1 0.538 18ea2a508a3c6f04f999cbb96b7b6b172bbe5034\trefs/heads/main\n",
      "#1 CACHED\n",
      "\n",
      "#2 [internal] load metadata for docker.io/library/ubuntu:latest\n",
      "#2 DONE 0.0s\n",
      "\n",
      "#3 [1/9] FROM docker.io/library/ubuntu:latest\n",
      "#3 DONE 0.0s\n",
      "\n",
      "#4 [3/9] RUN curl -s https://ohmyposh.dev/install.sh | bash -s\n",
      "#4 CACHED\n",
      "\n",
      "#5 [5/9] WORKDIR /home\n",
      "#5 CACHED\n",
      "\n",
      "#6 [7/9] WORKDIR /home/fabric\n",
      "#6 CACHED\n",
      "\n",
      "#7 [8/9] RUN pipx install . && pipx ensurepath\n",
      "#7 CACHED\n",
      "\n",
      "#8 [6/9] RUN git clone https://github.com/danielmiessler/fabric.git\n",
      "#8 CACHED\n",
      "\n",
      "#9 [2/9] RUN apt-get update && apt-get install -y     git     python3     python-is-python3     pip     pipx     curl     nano     micro     unzip     ffmpeg\n",
      "#9 CACHED\n",
      "\n",
      "#10 [4/9] RUN touch ~/.bashrc && echo '\\neval \"$(oh-my-posh init bash)\"' >> ~/.bashrc\n",
      "#10 CACHED\n",
      "\n",
      "#11 [9/9] RUN touch ~/.bashrc && echo '\\nexport PATH=\"$PATH:/root/.local/bin\"' >> ~/.bashrc\n",
      "#11 CACHED\n",
      "\n",
      "#12 exporting to image\n",
      "#12 exporting layers done\n",
      "#12 writing image sha256:df551a8e8d1f7bab8ede705b6bd06fe760b8c6438b3f3760d0865a09e88cccff done\n",
      "#12 naming to docker.io/jakub-deka/fabric done\n",
      "#12 DONE 0.0s\n",
      "\n",
      "View build details: docker-desktop://dashboard/build/default/default/yfyj8i4e30ze39r964y8kg8u5\n",
      "\n",
      "What's Next?\n",
      "  1. Sign in to your Docker account → docker login\n",
      "  2. View a summary of image vulnerabilities and recommendations → docker scout quickview\n"
     ]
    },
    {
     "name": "stdout",
     "output_type": "stream",
     "text": [
      "cd202e755e7d3f4f1280f2b348c98eec4257a6dbb89d3b49e476b96371228c6d\n",
      "fabric_host\n"
     ]
    }
   ],
   "source": [
    "# Optional clean up\n",
    "!docker stop fabric_host -t 1\n",
    "!docker container rm fabric_host\n",
    "!docker image rm jakub-deka/fabric:latest\n",
    "\n",
    "!git commit -a -m \"Get fabric working!\"\n",
    "!git push\n",
    "\n",
    "# !docker build - -t jakub-deka/fabric < fabric/Dockerfile\n",
    "!docker build https://github.com/jakub-deka/docker_repos.git#main:fabric -t jakub-deka/fabric\n",
    "\n",
    "!docker run -d -i --add-host=host.docker.internal:host-gateway --name fabric_host jakub-deka/fabric\n",
    "!docker start fabric_host"
   ]
  },
  {
   "cell_type": "markdown",
   "metadata": {},
   "source": [
    "To make sure that the everything with ollama is working correctly we need to check the local server using\n",
    "\n",
    "```\n",
    "curl http://host.docker.internal:11667/api/generate -d '{\n",
    "  \"model\": \"phi3\",\n",
    "  \"prompt\":\"Why is the sky blue?\"\n",
    "}'\n",
    "```\n",
    "\n",
    "```\n",
    "curl http://host.docker.internal:11667/api/chat -d '{\n",
    "  \"model\": \"phi3\",\n",
    "  \"messages\": [\n",
    "    { \"role\": \"user\", \"content\": \"why is the sky blue?\" }\n",
    "  ]\n",
    "}'\n",
    "```\n",
    "\n",
    "```\n",
    "curl http://host.docker.internal:11667/v1/chat/completions \\\n",
    "    -H \"Content-Type: application/json\" \\\n",
    "    -d '{\n",
    "        \"model\": \"phi3\",\n",
    "        \"messages\": [\n",
    "            {\n",
    "                \"role\": \"system\",\n",
    "                \"content\": \"You are a helpful assistant.\"\n",
    "            },\n",
    "            {\n",
    "                \"role\": \"user\",\n",
    "                \"content\": \"Why is the sky blue?\"\n",
    "            }\n",
    "        ]\n",
    "    }'\n",
    "```\n",
    "\n",
    "echo \"an essay about wood\" | fabric -m llama3:latest -sp write_essay --remoteOllamaServer host.docker.internal:11667 "
   ]
  },
  {
   "cell_type": "code",
   "execution_count": 29,
   "metadata": {},
   "outputs": [
    {
     "name": "stdout",
     "output_type": "stream",
     "text": [
      "50c546054d9c05b30b677c3fc54da981041b05463f1504123631d9560a54f29e\n"
     ]
    }
   ],
   "source": [
    "!docker run -d -i --name fabric_host jakub-deka/fabric\n",
    "# !docker exec -it fabric_host /bin/bash"
   ]
  }
 ],
 "metadata": {
  "kernelspec": {
   "display_name": "base",
   "language": "python",
   "name": "python3"
  },
  "language_info": {
   "codemirror_mode": {
    "name": "ipython",
    "version": 3
   },
   "file_extension": ".py",
   "mimetype": "text/x-python",
   "name": "python",
   "nbconvert_exporter": "python",
   "pygments_lexer": "ipython3",
   "version": "3.11.7"
  }
 },
 "nbformat": 4,
 "nbformat_minor": 2
}
