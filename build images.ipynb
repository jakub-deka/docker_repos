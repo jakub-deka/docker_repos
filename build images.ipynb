{
 "cells": [
  {
   "cell_type": "markdown",
   "metadata": {},
   "source": [
    "# Build local docker file images\n",
    "\n",
    "This will execute docker image builds locally. Not the best way but it is more convenient than typing each command by hand into terminal.\n",
    "\n",
    "I am sure I will find a better way..."
   ]
  },
  {
   "cell_type": "markdown",
   "metadata": {},
   "source": [
    "### Fabric"
   ]
  },
  {
   "cell_type": "code",
   "execution_count": 17,
   "metadata": {},
   "outputs": [
    {
     "name": "stdout",
     "output_type": "stream",
     "text": [
      "fabric_host\n",
      "fabric_host\n",
      "Untagged: jakub-deka/fabric:latest\n",
      "Deleted: sha256:ac6036409ed820a12bcd2178c3e24eccd3b4ffc59cd336b635ee185dbb6f90b7\n"
     ]
    }
   ],
   "source": [
    "# Optional clean up\n",
    "!docker stop fabric_host\n",
    "!docker container rm fabric_host\n",
    "!docker image rm jakub-deka/fabric:latest"
   ]
  },
  {
   "cell_type": "code",
   "execution_count": 52,
   "metadata": {},
   "outputs": [
    {
     "name": "stdout",
     "output_type": "stream",
     "text": [
      "fabric_host\n",
      "fabric_host\n",
      "Untagged: jakub-deka/fabric:latest\n",
      "Deleted: sha256:426dfd4653dac8552ab4dfa56e6aa3e0b63372e2dfb173ac528d7bd0fc3bc289\n"
     ]
    },
    {
     "name": "stderr",
     "output_type": "stream",
     "text": [
      "2024/06/05 15:58:47 http2: server: error reading preface from client //./pipe/docker_engine: file has already been closed\n",
      "#0 building with \"default\" instance using docker driver\n",
      "\n",
      "#1 [internal] load build definition from Dockerfile\n",
      "#1 transferring dockerfile: 785B done\n",
      "#1 DONE 0.0s\n",
      "\n",
      "#2 [internal] load metadata for docker.io/library/ubuntu:latest\n",
      "#2 DONE 0.0s\n",
      "\n",
      "#3 [internal] load .dockerignore\n",
      "#3 transferring context: 2B done\n",
      "#3 DONE 0.0s\n",
      "\n",
      "#4 [ 1/11] FROM docker.io/library/ubuntu:latest\n",
      "#4 DONE 0.0s\n",
      "\n",
      "#5 [ 5/11] WORKDIR /home\n",
      "#5 CACHED\n",
      "\n",
      "#6 [ 2/11] RUN apt-get update && apt-get install -y     git     python3     python-is-python3     pip     pipx     curl     nano     micro     unzip\n",
      "#6 CACHED\n",
      "\n",
      "#7 [ 7/11] WORKDIR /home/fabric\n",
      "#7 CACHED\n",
      "\n",
      "#8 [ 3/11] RUN curl -s https://ohmyposh.dev/install.sh | bash -s\n",
      "#8 CACHED\n",
      "\n",
      "#9 [ 8/11] RUN pipx install . && pipx ensurepath\n",
      "#9 CACHED\n",
      "\n",
      "#10 [ 4/11] RUN touch ~/.bashrc && echo '\\neval \"$(oh-my-posh init bash)\"' >> ~/.bashrc\n",
      "#10 CACHED\n",
      "\n",
      "#11 [ 9/11] RUN touch ~/.bashrc && echo '\\nexport PATH=\"$PATH:/root/.local/bin\"' >> ~/.bashrc\n",
      "#11 CACHED\n",
      "\n",
      "#12 [ 6/11] RUN git clone https://github.com/danielmiessler/fabric.git\n",
      "#12 CACHED\n",
      "\n",
      "#13 [10/11] RUN curl -fsSL https://ollama.com/install.sh | sh\n",
      "#13 CACHED\n",
      "\n",
      "#14 [11/11] RUN ollama pull phi3\n",
      "#14 0.236 Error: could not connect to ollama app, is it running?\n",
      "#14 ERROR: process \"/bin/sh -c ollama pull phi3\" did not complete successfully: exit code: 1\n",
      "------\n",
      " > [11/11] RUN ollama pull phi3:\n",
      "0.236 Error: could not connect to ollama app, is it running?\n",
      "------\n",
      "Dockerfile:28\n",
      "--------------------\n",
      "  26 |     \n",
      "  27 |     RUN curl -fsSL https://ollama.com/install.sh | sh\n",
      "  28 | >>> RUN ollama pull phi3\n",
      "  29 |     \n",
      "  30 |     CMD [\"/bin/bash\"]\n",
      "--------------------\n",
      "ERROR: failed to solve: process \"/bin/sh -c ollama pull phi3\" did not complete successfully: exit code: 1\n",
      "\n",
      "View build details: docker-desktop://dashboard/build/default/default/jngdq2m00lxj5as7xvblc9pgl\n",
      "Unable to find image 'jakub-deka/fabric:latest' locally\n",
      "docker: Error response from daemon: pull access denied for jakub-deka/fabric, repository does not exist or may require 'docker login': denied: requested access to the resource is denied.\n",
      "See 'docker run --help'.\n"
     ]
    }
   ],
   "source": [
    "# Optional clean up\n",
    "!docker stop fabric_host -t 1\n",
    "!docker container rm fabric_host\n",
    "!docker image rm jakub-deka/fabric:latest\n",
    "\n",
    "# Having to committ and sync changes up to git is annoying. Will build local file instead.\n",
    "!docker build - -t jakub-deka/fabric < fabric/Dockerfile\n",
    "# !docker build https://github.com/jakub-deka/docker_repos.git#main:fabric -t jakub-deka/fabric\n",
    "\n",
    "\n",
    "!docker run -d -i --gpus all --name fabric_host jakub-deka/fabric"
   ]
  },
  {
   "cell_type": "markdown",
   "metadata": {},
   "source": [
    "To make sure that the everything with ollama is working correctly we need to check the local server using\n",
    "\n",
    "```\n",
    "curl http://localhost:11434/v1/chat/completions \\\n",
    "    -H \"Content-Type: application/json\" \\\n",
    "    -d '{\n",
    "        \"model\": \"mistral:instruct\",\n",
    "        \"messages\": [\n",
    "            {\n",
    "                \"role\": \"system\",\n",
    "                \"content\": \"You are a helpful assistant.\"\n",
    "            },\n",
    "            {\n",
    "                \"role\": \"user\",\n",
    "                \"content\": \"Why is the sky blue?\"\n",
    "            }\n",
    "        ]\n",
    "    }'\n",
    "```"
   ]
  },
  {
   "cell_type": "code",
   "execution_count": 29,
   "metadata": {},
   "outputs": [
    {
     "name": "stdout",
     "output_type": "stream",
     "text": [
      "50c546054d9c05b30b677c3fc54da981041b05463f1504123631d9560a54f29e\n"
     ]
    }
   ],
   "source": [
    "!docker run -d -i --name fabric_host jakub-deka/fabric\n",
    "# !docker exec -it fabric_host /bin/bash"
   ]
  }
 ],
 "metadata": {
  "kernelspec": {
   "display_name": "base",
   "language": "python",
   "name": "python3"
  },
  "language_info": {
   "codemirror_mode": {
    "name": "ipython",
    "version": 3
   },
   "file_extension": ".py",
   "mimetype": "text/x-python",
   "name": "python",
   "nbconvert_exporter": "python",
   "pygments_lexer": "ipython3",
   "version": "3.11.7"
  }
 },
 "nbformat": 4,
 "nbformat_minor": 2
}
