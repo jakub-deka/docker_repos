{
 "cells": [
  {
   "cell_type": "markdown",
   "metadata": {},
   "source": [
    "# Build local docker file images\n",
    "\n",
    "This will execute docker image builds locally. Not the best way but it is more convenient than typing each command by hand into terminal.\n",
    "\n",
    "I am sure I will find a better way..."
   ]
  },
  {
   "cell_type": "markdown",
   "metadata": {},
   "source": [
    "### Fabric"
   ]
  },
  {
   "cell_type": "code",
   "execution_count": 5,
   "metadata": {},
   "outputs": [
    {
     "name": "stderr",
     "output_type": "stream",
     "text": [
      "Error response from daemon: No such container: fabric_host\n",
      "Error response from daemon: No such container: fabric_host\n",
      "Error response from daemon: No such image: jakub-deka/fabric:latest\n"
     ]
    }
   ],
   "source": [
    "# Optional clean up\n",
    "!docker stop fabric_host\n",
    "!docker container rm fabric_host\n",
    "!docker image rm jakub-deka/fabric:latest"
   ]
  },
  {
   "cell_type": "code",
   "execution_count": 3,
   "metadata": {},
   "outputs": [
    {
     "name": "stderr",
     "output_type": "stream",
     "text": [
      "2024/06/05 11:04:17 http2: server: error reading preface from client //./pipe/docker_engine: file has already been closed\n",
      "2024/06/05 11:04:17 http2: server: error reading preface from client //./pipe/docker_engine: file has already been closed\n",
      "#0 building with \"default\" instance using docker driver\n",
      "\n",
      "#1 [internal] load git source https://github.com/jakub-deka/docker_repos.git#main:fabric\n",
      "#1 0.496 2ca399634aa995601db324da9407d060d1532af0\trefs/heads/main\n",
      "#1 0.805 From https://github.com/jakub-deka/docker_repos\n",
      "#1 0.805  t [tag update]      main       -> main\n",
      "#1 0.805  + dbe8ae3...2ca3996 main       -> origin/main  (forced update)\n",
      "#1 DONE 1.3s\n",
      "\n",
      "#2 [internal] load metadata for docker.io/library/ubuntu:20.04\n",
      "#2 DONE 1.4s\n",
      "\n",
      "#3 [ 1/16] FROM docker.io/library/ubuntu:20.04@sha256:0b897358ff6624825fb50d20ffb605ab0eaea77ced0adb8c6a4b756513dec6fc\n",
      "#3 DONE 0.0s\n",
      "\n",
      "#4 [ 8/16] RUN apt-get install curl -y\n",
      "#4 CACHED\n",
      "\n",
      "#5 [ 3/16] RUN apt-get install python -y\n",
      "#5 CACHED\n",
      "\n",
      "#6 [ 7/16] RUN pipx ensurepath\n",
      "#6 CACHED\n",
      "\n",
      "#7 [ 2/16] RUN apt-get update\n",
      "#7 CACHED\n",
      "\n",
      "#8 [ 4/16] RUN apt-get install git -y\n",
      "#8 CACHED\n",
      "\n",
      "#9 [ 5/16] RUN apt-get install pip -y\n",
      "#9 CACHED\n",
      "\n",
      "#10 [ 6/16] RUN apt-get install pipx -y\n",
      "#10 CACHED\n",
      "\n",
      "#11 [10/16] RUN apt-get install micro -y\n",
      "#11 CACHED\n",
      "\n",
      "#12 [ 9/16] RUN apt-get install nano -y\n",
      "#12 CACHED\n",
      "\n",
      "#13 [11/16] RUN apt-get install unzip -y\n",
      "#13 CACHED\n",
      "\n",
      "#14 [12/16] RUN mkdir fabric\n",
      "#14 DONE 0.2s\n",
      "\n",
      "#15 [13/16] WORKDIR /fabric\n",
      "#15 DONE 0.1s\n",
      "\n",
      "#16 [14/16] RUN git clone https://github.com/danielmiessler/fabric.git\n",
      "#16 0.315 Cloning into 'fabric'...\n",
      "#16 DONE 18.9s\n",
      "\n",
      "#17 [15/16] RUN curl -s https://ohmyposh.dev/install.sh | bash -s\n",
      "#17 0.596 \n",
      "#17 0.596 ℹ️  Installing oh-my-posh for linux-amd64 in /usr/local/bin\n",
      "#17 0.596 ⬇️  Downloading oh-my-posh from https://github.com/JanDeDobbeleer/oh-my-posh/releases/latest/download/posh-linux-amd64\n",
      "#17 2.213 🎨 Installing oh-my-posh themes in /root/themes\n",
      "#17 2.213 \n",
      "#17 2.989 🚀 Installation complete.\n",
      "#17 2.989 \n",
      "#17 2.989 You can follow the instructions at https://ohmyposh.dev/docs/installation/prompt\n",
      "#17 2.989 to setup your shell to use oh-my-posh.\n",
      "#17 2.989 \n",
      "#17 2.989 If you want to use a built-in theme, you can find them in the  directory:\n",
      "#17 2.989   oh-my-posh init {shell} --config /{theme}.omp.json\n",
      "#17 2.989 \n",
      "#17 DONE 3.0s\n",
      "\n",
      "#18 [16/16] RUN touch ~/.bashrc && echo -e '\\neval \"$(oh-my-posh init bash)\"' >> ~/.bashrc\n",
      "#18 DONE 0.4s\n",
      "\n",
      "#19 exporting to image\n",
      "#19 exporting layers\n",
      "#19 exporting layers 0.4s done\n",
      "#19 writing image sha256:fc761508a3716a73824900924beaf28965317db49d0ded1ad419351525ff0825 done\n",
      "#19 naming to docker.io/jakub-deka/fabric done\n",
      "#19 DONE 0.4s\n",
      "\n",
      "View build details: docker-desktop://dashboard/build/default/default/oybdv6luvdxp4qn2tmn9dogdc\n",
      "\n",
      "What's Next?\n",
      "  1. Sign in to your Docker account → docker login\n",
      "  2. View a summary of image vulnerabilities and recommendations → docker scout quickview\n"
     ]
    }
   ],
   "source": [
    "!docker build https://github.com/jakub-deka/docker_repos.git#main:fabric -t jakub-deka/fabric"
   ]
  },
  {
   "cell_type": "code",
   "execution_count": 2,
   "metadata": {},
   "outputs": [
    {
     "name": "stdout",
     "output_type": "stream",
     "text": [
      "cf6427caf0f06d74f59a1f4a899e3253257730a9f5bf615461527a82063472a7\n"
     ]
    }
   ],
   "source": [
    "!docker run -d -i --name fabric_host jakub-deka/fabric\n",
    "# !docker exec -it fabric_host /bin/bash"
   ]
  }
 ],
 "metadata": {
  "kernelspec": {
   "display_name": "base",
   "language": "python",
   "name": "python3"
  },
  "language_info": {
   "codemirror_mode": {
    "name": "ipython",
    "version": 3
   },
   "file_extension": ".py",
   "mimetype": "text/x-python",
   "name": "python",
   "nbconvert_exporter": "python",
   "pygments_lexer": "ipython3",
   "version": "3.11.7"
  }
 },
 "nbformat": 4,
 "nbformat_minor": 2
}
