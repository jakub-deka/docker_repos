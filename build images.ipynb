{
 "cells": [
  {
   "cell_type": "markdown",
   "metadata": {},
   "source": [
    "# Build local docker file images\n",
    "\n",
    "This will execute docker image builds locally. Not the best way but it is more convenient than typing each command by hand into terminal.\n",
    "\n",
    "I am sure I will find a better way..."
   ]
  },
  {
   "cell_type": "markdown",
   "metadata": {},
   "source": [
    "### Fabric"
   ]
  },
  {
   "cell_type": "code",
   "execution_count": 8,
   "metadata": {},
   "outputs": [
    {
     "name": "stdout",
     "output_type": "stream",
     "text": [
      "fabric_host\n",
      "fabric_host\n",
      "Untagged: jakub-deka/fabric:latest\n",
      "Deleted: sha256:6d44385f7b48ad60fb66386597e38b42c3bb33a907872735aca8a8acaaedf100\n"
     ]
    }
   ],
   "source": [
    "# Optional clean up\n",
    "!docker stop fabric_host -t 1\n",
    "!docker container rm fabric_host\n",
    "!docker image rm jakub-deka/fabric:latest"
   ]
  },
  {
   "cell_type": "code",
   "execution_count": 7,
   "metadata": {},
   "outputs": [
    {
     "name": "stdout",
     "output_type": "stream",
     "text": [
      "[main a911203] Get fabric working!\n",
      " 1 file changed, 2 insertions(+), 2 deletions(-)\n"
     ]
    },
    {
     "name": "stderr",
     "output_type": "stream",
     "text": [
      "To https://github.com/jakub-deka/docker_repos.git\n",
      "   2e1655b..a911203  main -> main\n"
     ]
    }
   ],
   "source": [
    "!git add .\n",
    "!git commit -a -m \"Get fabric working!\"\n",
    "!git push"
   ]
  },
  {
   "cell_type": "code",
   "execution_count": 11,
   "metadata": {},
   "outputs": [
    {
     "name": "stdout",
     "output_type": "stream",
     "text": [
      "fabric_host\n",
      "fabric_host\n",
      "Untagged: jakub-deka/fabric:latest\n",
      "Deleted: sha256:720393d5aa4e39711126ba16e686effc2c4ff574ae6dfdbc6636d5a3f350ea10\n",
      "[main a2f8c9c] Get fabric working!\n",
      " 1 file changed, 1 insertion(+), 1 deletion(-)\n"
     ]
    },
    {
     "name": "stderr",
     "output_type": "stream",
     "text": [
      "To https://github.com/jakub-deka/docker_repos.git\n",
      "   3c4498c..a2f8c9c  main -> main\n",
      "2024/06/06 15:53:16 http2: server: error reading preface from client //./pipe/docker_engine: file has already been closed\n",
      "#0 building with \"default\" instance using docker driver\n",
      "\n",
      "#1 [internal] load git source https://github.com/jakub-deka/docker_repos.git#main:fabric\n",
      "#1 0.491 a2f8c9c97364ee27a99e2c0eaedcc4ebc92288a7\trefs/heads/main\n",
      "#1 0.708 From https://github.com/jakub-deka/docker_repos\n",
      "#1 0.708  t [tag update]      main       -> main\n",
      "#1 0.708  + 3c4498c...a2f8c9c main       -> origin/main  (forced update)\n",
      "#1 DONE 1.3s\n",
      "\n",
      "#2 [internal] load metadata for docker.io/library/ubuntu:latest\n",
      "#2 DONE 0.0s\n",
      "\n",
      "#3 [ 1/13] FROM docker.io/library/ubuntu:latest\n",
      "#3 DONE 0.0s\n",
      "\n",
      "#4 [ 2/13] RUN apt-get update && apt-get install -y     git     python3     python-is-python3     pip     pipx     curl     nano     micro     unzip     ffmpeg     xsel\n",
      "#4 CACHED\n",
      "\n",
      "#5 [ 7/13] WORKDIR /home/fabric\n",
      "#5 CACHED\n",
      "\n",
      "#6 [ 4/13] RUN touch ~/.bashrc && echo 'eval \"$(oh-my-posh init bash)\"' >> ~/.bashrc\n",
      "#6 CACHED\n",
      "\n",
      "#7 [ 6/13] RUN git clone https://github.com/danielmiessler/fabric.git\n",
      "#7 CACHED\n",
      "\n",
      "#8 [ 5/13] WORKDIR /home\n",
      "#8 CACHED\n",
      "\n",
      "#9 [10/13] RUN echo \"alias pbcopy='xsel --input --clipboard'\" >> ~/.bashrc\n",
      "#9 CACHED\n",
      "\n",
      "#10 [ 3/13] RUN curl -s https://ohmyposh.dev/install.sh | bash -s\n",
      "#10 CACHED\n",
      "\n",
      "#11 [ 8/13] RUN pipx install . && pipx ensurepath\n",
      "#11 CACHED\n",
      "\n",
      "#12 [ 9/13] RUN touch ~/.bashrc && echo 'export PATH=\"$PATH:/root/.local/bin\"' >> ~/.bashrc\n",
      "#12 CACHED\n",
      "\n",
      "#13 [11/13] RUN echo \"alias pbpaste='xsel --output --clipboard'\" >> ~/.bashrc\n",
      "#13 CACHED\n",
      "\n",
      "#14 [12/13] RUN echo \"alias fab='fabric -m llama3:latest --remoteOllamaServer host.docker.internal:11667'\" >> ~/.bashrc\n",
      "#14 DONE 0.2s\n",
      "\n",
      "#15 [13/13] WORKDIR /home\n",
      "#15 DONE 0.1s\n",
      "\n",
      "#16 exporting to image\n",
      "#16 exporting layers 0.1s done\n",
      "#16 writing image sha256:15ed2840510bd8aed4da6bbbe12212740bd5b79a029d784bd0c50b478ac28d16 done\n",
      "#16 naming to docker.io/jakub-deka/fabric done\n",
      "#16 DONE 0.1s\n",
      "\n",
      "View build details: docker-desktop://dashboard/build/default/default/d3kv580ali01orn7zsii1fzyw\n",
      "\n",
      "What's Next?\n",
      "  1. Sign in to your Docker account → docker login\n",
      "  2. View a summary of image vulnerabilities and recommendations → docker scout quickview\n"
     ]
    },
    {
     "name": "stdout",
     "output_type": "stream",
     "text": [
      "0116243c5abd28ec123fbf8205c5f594288198d55395a892dcb4b45581b5ccdd\n",
      "fabric_host\n"
     ]
    }
   ],
   "source": [
    "# Optional clean up\n",
    "!docker stop fabric_host -t 1\n",
    "!docker container rm fabric_host\n",
    "!docker image rm jakub-deka/fabric:latest\n",
    "\n",
    "!git commit -a -m \"Get fabric working!\"\n",
    "!git push\n",
    "\n",
    "# !docker build - -t jakub-deka/fabric < fabric/Dockerfile\n",
    "!docker build https://github.com/jakub-deka/docker_repos.git#main:fabric -t jakub-deka/fabric\n",
    "\n",
    "!docker run -t -d -i --add-host=host.docker.internal:host-gateway -p 13337:13337 -p 13338:13338 --name fabric_host jakub-deka/fabric\n",
    "!docker start fabric_host"
   ]
  },
  {
   "cell_type": "markdown",
   "metadata": {},
   "source": [
    "To make sure that the everything with ollama is working correctly we need to check the local server using\n",
    "\n",
    "```\n",
    "curl http://host.docker.internal:11667/api/generate -d '{\n",
    "  \"model\": \"phi3\",\n",
    "  \"prompt\":\"Why is the sky blue?\"\n",
    "}'\n",
    "```\n",
    "\n",
    "```\n",
    "curl http://host.docker.internal:11667/api/chat -d '{\n",
    "  \"model\": \"phi3\",\n",
    "  \"messages\": [\n",
    "    { \"role\": \"user\", \"content\": \"why is the sky blue?\" }\n",
    "  ]\n",
    "}'\n",
    "```\n",
    "\n",
    "```\n",
    "curl http://host.docker.internal:11667/v1/chat/completions \\\n",
    "    -H \"Content-Type: application/json\" \\\n",
    "    -d '{\n",
    "        \"model\": \"phi3\",\n",
    "        \"messages\": [\n",
    "            {\n",
    "                \"role\": \"system\",\n",
    "                \"content\": \"You are a helpful assistant.\"\n",
    "            },\n",
    "            {\n",
    "                \"role\": \"user\",\n",
    "                \"content\": \"Why is the sky blue?\"\n",
    "            }\n",
    "        ]\n",
    "    }'\n",
    "```\n",
    "\n",
    "echo \"an essay about wood\" | fabric -m llama3:latest -sp write_essay --remoteOllamaServer host.docker.internal:11667 "
   ]
  },
  {
   "cell_type": "code",
   "execution_count": 29,
   "metadata": {},
   "outputs": [
    {
     "name": "stdout",
     "output_type": "stream",
     "text": [
      "50c546054d9c05b30b677c3fc54da981041b05463f1504123631d9560a54f29e\n"
     ]
    }
   ],
   "source": [
    "!docker run -d -i --name fabric_host jakub-deka/fabric\n",
    "# !docker exec -it fabric_host /bin/bash"
   ]
  }
 ],
 "metadata": {
  "kernelspec": {
   "display_name": "base",
   "language": "python",
   "name": "python3"
  },
  "language_info": {
   "codemirror_mode": {
    "name": "ipython",
    "version": 3
   },
   "file_extension": ".py",
   "mimetype": "text/x-python",
   "name": "python",
   "nbconvert_exporter": "python",
   "pygments_lexer": "ipython3",
   "version": "3.11.7"
  }
 },
 "nbformat": 4,
 "nbformat_minor": 2
}
